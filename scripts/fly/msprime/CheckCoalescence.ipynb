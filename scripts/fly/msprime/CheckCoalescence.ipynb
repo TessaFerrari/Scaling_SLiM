{
 "cells": [
  {
   "cell_type": "code",
   "execution_count": 1,
   "id": "62bbb39b-7838-4436-90e5-fe943082766d",
   "metadata": {},
   "outputs": [],
   "source": [
    "import tskit, msprime, pyslim\n",
    "from IPython.display import SVG, display\n",
    "import numpy as np"
   ]
  },
  {
   "cell_type": "code",
   "execution_count": 6,
   "id": "5baaea09-99ca-41bf-b615-54bfd5c97103",
   "metadata": {},
   "outputs": [
    {
     "name": "stdout",
     "output_type": "stream",
     "text": [
      "BurnInType\tScalingFactor\tGenomeSize\tRepNum\tCoalesced?\n",
      "coal\t1000\t1e5\t1\tTrue\n",
      "coal\t1000\t1e5\t2\tTrue\n",
      "coal\t1000\t1e6\t1\tTrue\n",
      "coal\t1000\t1e6\t2\tFalse\n",
      "coal\t1000\t1e7\t1\tFalse\n",
      "coal\t1000\t1e7\t2\tFalse\n",
      "coal\t500\t1e5\t1\tTrue\n",
      "coal\t500\t1e5\t2\tTrue\n",
      "coal\t500\t1e6\t1\tTrue\n",
      "coal\t500\t1e6\t2\tTrue\n",
      "coal\t500\t1e7\t1\tFalse\n",
      "coal\t500\t1e7\t2\tFalse\n",
      "coal\t100\t1e5\t1\tTrue\n",
      "coal\t100\t1e5\t2\tTrue\n",
      "coal\t100\t1e6\t1\tFalse\n",
      "coal\t100\t1e6\t2\tTrue\n",
      "coal\t100\t1e7\t1\tFalse\n",
      "coal\t100\t1e7\t2\tFalse\n"
     ]
    }
   ],
   "source": [
    "print(\"BurnInType\",\"ScalingFactor\",\"GenomeSize\",\"RepNum\",\"Coalesced?\",sep='\\t')\n",
    "for t in [5, 10, 20]:\n",
    "    for c in [1000, 500, 100]:\n",
    "        for G in [\"1e5\", \"1e6\", \"1e7\"]:\n",
    "            for n in range(1,3): \n",
    "                ts = tskit.load(f'C:\\\\Users\\\\tferrari\\\\Desktop\\\\SlimBenchmark\\\\fly\\\\out\\\\burnins\\\\flyBench_burnin{n}_{t}Ne_c{c}_{G}.trees')\n",
    "                print(t,c,G,n,max([t.num_roots for t in ts.trees()])==1,sep='\\t')"
   ]
  },
  {
   "cell_type": "code",
   "execution_count": null,
   "id": "6811c5fb-3523-41c2-abb7-7deafdd91dd9",
   "metadata": {},
   "outputs": [],
   "source": []
  }
 ],
 "metadata": {
  "kernelspec": {
   "display_name": "Python 3 (ipykernel)",
   "language": "python",
   "name": "python3"
  },
  "language_info": {
   "codemirror_mode": {
    "name": "ipython",
    "version": 3
   },
   "file_extension": ".py",
   "mimetype": "text/x-python",
   "name": "python",
   "nbconvert_exporter": "python",
   "pygments_lexer": "ipython3",
   "version": "3.12.2"
  }
 },
 "nbformat": 4,
 "nbformat_minor": 5
}
